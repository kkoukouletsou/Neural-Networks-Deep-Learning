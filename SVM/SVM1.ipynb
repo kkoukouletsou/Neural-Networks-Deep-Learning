{
 "cells": [
  {
   "cell_type": "code",
   "execution_count": 1,
   "metadata": {},
   "outputs": [],
   "source": [
    "import tensorflow as tf\n",
    "import numpy as np\n",
    "from sklearn.svm import SVC\n",
    "from sklearn.preprocessing import StandardScaler\n",
    "from sklearn.metrics import accuracy_score, classification_report, confusion_matrix\n",
    "from tqdm import tqdm\n",
    "\n",
    "# Load Data\n",
    "(x_train, y_train), (x_test, y_test) = tf.keras.datasets.cifar10.load_data()\n",
    "class_names = ['airplane', 'automobile', 'bird', 'cat', 'deer', 'dog', 'frog', 'horse', 'ship', 'truck']\n",
    "\n",
    "# Reshape and Normalize Data\n",
    "x_train = x_train.reshape((x_train.shape[0], -1)) / 255.0\n",
    "x_test = x_test.reshape((x_test.shape[0], -1)) / 255.0\n",
    "y_train = y_train.flatten()\n",
    "y_test = y_test.flatten()"
   ]
  },
  {
   "cell_type": "markdown",
   "metadata": {},
   "source": [
    "**USING A LINEAR KERNEL**"
   ]
  },
  {
   "cell_type": "code",
   "execution_count": null,
   "metadata": {},
   "outputs": [
    {
     "name": "stdout",
     "output_type": "stream",
     "text": [
      "Training SVM with linear kernel...\n",
      "[LibSVM]Evaluating model...\n",
      "Accuracy: 0.38\n"
     ]
    }
   ],
   "source": [
    "print(\"Training SVM with linear kernel...\")\n",
    "svm_linear1 = SVC(kernel='linear', verbose=True)\n",
    "svm_linear1.fit(x_train, y_train)\n",
    "\n",
    "print(\"Evaluating model...\")\n",
    "y_pred = svm_linear1.predict(x_test)\n",
    "\n",
    "accuracy = accuracy_score(y_test, y_pred)\n",
    "print(f\"Accuracy: {accuracy:.2f}\")"
   ]
  },
  {
   "cell_type": "code",
   "execution_count": 5,
   "metadata": {},
   "outputs": [
    {
     "name": "stdout",
     "output_type": "stream",
     "text": [
      "Training SVM with linear kernel...\n",
      "[LibSVM]Evaluating model...\n",
      "Accuracy: 0.36\n"
     ]
    }
   ],
   "source": [
    "print(\"Training SVM with linear kernel...\")\n",
    "svm_linear2 = SVC(kernel='linear', C = 10, verbose=True)\n",
    "svm_linear2.fit(x_train, y_train)\n",
    "\n",
    "print(\"Evaluating model...\")\n",
    "y_pred = svm_linear2.predict(x_test)\n",
    "\n",
    "accuracy = accuracy_score(y_test, y_pred)\n",
    "print(f\"Accuracy: {accuracy:.2f}\")"
   ]
  },
  {
   "cell_type": "markdown",
   "metadata": {},
   "source": [
    "**USING A POLYNOMIAL KERNEL**"
   ]
  },
  {
   "cell_type": "code",
   "execution_count": 6,
   "metadata": {},
   "outputs": [
    {
     "name": "stdout",
     "output_type": "stream",
     "text": [
      "Training SVM with polynomial kernel (degree=3, C=1.0)...\n",
      "[LibSVM]Evaluating model...\n",
      "Accuracy: 0.52\n"
     ]
    }
   ],
   "source": [
    "C_value = 1.0\n",
    "degree = 3\n",
    "print(f\"Training SVM with polynomial kernel (degree={degree}, C={C_value})...\")\n",
    "svm_poly1 = SVC(kernel='poly', degree=degree, C=C_value, verbose=True)\n",
    "svm_poly1.fit(x_train, y_train)\n",
    "print(\"Evaluating model...\")\n",
    "y_pred = svm_poly1.predict(x_test)\n",
    "\n",
    "accuracy = accuracy_score(y_test, y_pred)\n",
    "print(f\"Accuracy: {accuracy:.2f}\")"
   ]
  },
  {
   "cell_type": "code",
   "execution_count": 7,
   "metadata": {},
   "outputs": [
    {
     "name": "stdout",
     "output_type": "stream",
     "text": [
      "Training SVM with polynomial kernel (degree=5, C=1.0)...\n",
      "[LibSVM]Evaluating model...\n",
      "Accuracy: 0.50\n"
     ]
    }
   ],
   "source": [
    "C_value = 1.0\n",
    "degree = 5\n",
    "print(f\"Training SVM with polynomial kernel (degree={degree}, C={C_value})...\")\n",
    "svm_poly2 = SVC(kernel='poly', degree=degree, C=C_value, verbose=True)\n",
    "svm_poly2.fit(x_train, y_train)\n",
    "print(\"Evaluating model...\")\n",
    "y_pred = svm_poly2.predict(x_test)\n",
    "\n",
    "accuracy = accuracy_score(y_test, y_pred)\n",
    "print(f\"Accuracy: {accuracy:.2f}\")"
   ]
  },
  {
   "cell_type": "code",
   "execution_count": 2,
   "metadata": {},
   "outputs": [
    {
     "name": "stdout",
     "output_type": "stream",
     "text": [
      "Training SVM with polynomial kernel (degree=2, C=1.0)...\n",
      "[LibSVM]Evaluating model...\n",
      "Accuracy: 0.52\n"
     ]
    }
   ],
   "source": [
    "C_value = 1.0\n",
    "degree = 2\n",
    "coef0 = 1\n",
    "print(f\"Training SVM with polynomial kernel (degree={degree}, C={C_value})...\")\n",
    "svm_poly3 = SVC(kernel='poly', degree=degree, C=C_value, coef0=coef0, verbose=True)\n",
    "svm_poly3.fit(x_train, y_train)\n",
    "print(\"Evaluating model...\")\n",
    "y_pred = svm_poly3.predict(x_test)\n",
    "\n",
    "accuracy = accuracy_score(y_test, y_pred)\n",
    "print(f\"Accuracy: {accuracy:.2f}\")"
   ]
  },
  {
   "cell_type": "code",
   "execution_count": 8,
   "metadata": {},
   "outputs": [
    {
     "name": "stdout",
     "output_type": "stream",
     "text": [
      "Training SVM with polynomial kernel (degree=2, C=10)...\n",
      "[LibSVM]Evaluating model...\n",
      "Accuracy: 0.52\n"
     ]
    }
   ],
   "source": [
    "C_value = 10\n",
    "degree = 2\n",
    "coef0 = 1\n",
    "print(f\"Training SVM with polynomial kernel (degree={degree}, C={C_value})...\")\n",
    "svm_poly4 = SVC(kernel='poly', degree=degree, C=C_value, coef0=coef0, verbose=True)\n",
    "svm_poly4.fit(x_train, y_train)\n",
    "print(\"Evaluating model...\")\n",
    "y_pred = svm_poly4.predict(x_test)\n",
    "\n",
    "accuracy = accuracy_score(y_test, y_pred)\n",
    "print(f\"Accuracy: {accuracy:.2f}\")"
   ]
  },
  {
   "cell_type": "markdown",
   "metadata": {},
   "source": [
    "**USING AN RBF KERNEL**"
   ]
  },
  {
   "cell_type": "code",
   "execution_count": 2,
   "metadata": {},
   "outputs": [
    {
     "name": "stdout",
     "output_type": "stream",
     "text": [
      "Training SVM with RBF kernel, C=1, gamma=0.1)...\n",
      "Evaluating model...\n",
      "Accuracy: 0.22\n"
     ]
    }
   ],
   "source": [
    "C_value = 1\n",
    "gamma_value = 0.1\n",
    "print(f\"Training SVM with RBF kernel, C={C_value}, gamma={gamma_value})...\")\n",
    "svm_rbf1 = SVC(kernel='rbf', C=C_value, gamma=gamma_value, decision_function_shape='ovr')\n",
    "svm_rbf1.fit(x_train, y_train)\n",
    "print(\"Evaluating model...\")\n",
    "y_pred = svm_rbf1.predict(x_test)\n",
    "\n",
    "accuracy = accuracy_score(y_test, y_pred)\n",
    "print(f\"Accuracy: {accuracy:.2f}\")"
   ]
  },
  {
   "cell_type": "code",
   "execution_count": 3,
   "metadata": {},
   "outputs": [
    {
     "name": "stdout",
     "output_type": "stream",
     "text": [
      "Training SVM with RBF kernel, C=10, gamma=0.1)...\n",
      "Evaluating model...\n",
      "Accuracy: 0.24\n"
     ]
    }
   ],
   "source": [
    "C_value = 10\n",
    "gamma_value = 0.1\n",
    "print(f\"Training SVM with RBF kernel, C={C_value}, gamma={gamma_value})...\")\n",
    "svm_rbf2 = SVC(kernel='rbf', C=C_value, gamma=gamma_value, decision_function_shape='ovr')\n",
    "svm_rbf2.fit(x_train, y_train)\n",
    "print(\"Evaluating model...\")\n",
    "y_pred = svm_rbf2.predict(x_test)\n",
    "\n",
    "accuracy = accuracy_score(y_test, y_pred)\n",
    "print(f\"Accuracy: {accuracy:.2f}\")"
   ]
  },
  {
   "cell_type": "code",
   "execution_count": 4,
   "metadata": {},
   "outputs": [
    {
     "name": "stdout",
     "output_type": "stream",
     "text": [
      "Training SVM with RBF kernel, C=1, gamma=0.01)...\n",
      "Evaluating model...\n",
      "Accuracy: 0.56\n"
     ]
    }
   ],
   "source": [
    "C_value = 1\n",
    "gamma_value = 0.01\n",
    "print(f\"Training SVM with RBF kernel, C={C_value}, gamma={gamma_value})...\")\n",
    "svm_rbf3 = SVC(kernel='rbf', C=C_value, gamma=gamma_value, decision_function_shape='ovr')\n",
    "svm_rbf3.fit(x_train, y_train)\n",
    "print(\"Evaluating model...\")\n",
    "y_pred = svm_rbf3.predict(x_test)\n",
    "\n",
    "accuracy = accuracy_score(y_test, y_pred)\n",
    "print(f\"Accuracy: {accuracy:.2f}\")"
   ]
  },
  {
   "cell_type": "code",
   "execution_count": 10,
   "metadata": {},
   "outputs": [
    {
     "name": "stdout",
     "output_type": "stream",
     "text": [
      "Training SVM with RBF kernel, C=1.0)...\n",
      "Evaluating model...\n",
      "Accuracy: 0.54\n"
     ]
    }
   ],
   "source": [
    "C_value = 1.0\n",
    "print(f\"Training SVM with RBF kernel, C={C_value})...\")\n",
    "svm_rbf4 = SVC(kernel='rbf', C=C_value, gamma='scale', decision_function_shape='ovr')\n",
    "svm_rbf4.fit(x_train, y_train)\n",
    "print(\"Evaluating model...\")\n",
    "y_pred = svm_rbf4.predict(x_test)\n",
    "\n",
    "accuracy = accuracy_score(y_test, y_pred)\n",
    "print(f\"Accuracy: {accuracy:.2f}\")"
   ]
  },
  {
   "cell_type": "code",
   "execution_count": 11,
   "metadata": {},
   "outputs": [
    {
     "name": "stdout",
     "output_type": "stream",
     "text": [
      "Training SVM with RBF kernel, C=10.0)...\n",
      "Evaluating model...\n",
      "Accuracy: 0.57\n"
     ]
    }
   ],
   "source": [
    "C_value = 10.0\n",
    "print(f\"Training SVM with RBF kernel, C={C_value})...\")\n",
    "\n",
    "svm_rbf4 = SVC(kernel='rbf', C=C_value, gamma='scale', decision_function_shape='ovr')\n",
    "svm_rbf4.fit(x_train, y_train)\n",
    "\n",
    "print(\"Evaluating model...\")\n",
    "y_pred = svm_rbf4.predict(x_test)\n",
    "\n",
    "accuracy = accuracy_score(y_test, y_pred)\n",
    "print(f\"Accuracy: {accuracy:.2f}\")"
   ]
  },
  {
   "cell_type": "markdown",
   "metadata": {},
   "source": [
    "**USING A SIGMOID KERNEL**"
   ]
  },
  {
   "cell_type": "code",
   "execution_count": 3,
   "metadata": {},
   "outputs": [
    {
     "name": "stdout",
     "output_type": "stream",
     "text": [
      "Training SVM with sigmoid kernel, C=1, gamma=0.1, coef0=0)...\n",
      "Evaluating model...\n",
      "Accuracy: 0.10\n"
     ]
    }
   ],
   "source": [
    "C_value = 1 \n",
    "gamma = 0.1\n",
    "coef0 = 0\n",
    "print(f\"Training SVM with sigmoid kernel, C={C_value}, gamma={gamma}, coef0={coef0})...\")\n",
    "\n",
    "svm_sigmoid = SVC(kernel='sigmoid', C=C_value, gamma=gamma, coef0 = coef0, decision_function_shape='ovr')\n",
    "svm_sigmoid.fit(x_train, y_train)\n",
    "\n",
    "print(\"Evaluating model...\")\n",
    "y_pred = svm_sigmoid.predict(x_test)\n",
    "\n",
    "accuracy = accuracy_score(y_test, y_pred)\n",
    "print(f\"Accuracy: {accuracy:.2f}\")"
   ]
  },
  {
   "cell_type": "code",
   "execution_count": 4,
   "metadata": {},
   "outputs": [
    {
     "name": "stdout",
     "output_type": "stream",
     "text": [
      "Training SVM with sigmoid kernel, C=10, gamma=0.1, coef0=0)...\n",
      "Evaluating model...\n",
      "Accuracy: 0.10\n"
     ]
    }
   ],
   "source": [
    "C_value = 10\n",
    "gamma = 0.1\n",
    "coef0 = 0\n",
    "print(f\"Training SVM with sigmoid kernel, C={C_value}, gamma={gamma}, coef0={coef0})...\")\n",
    "\n",
    "svm_sigmoid = SVC(kernel='sigmoid', C=C_value, gamma=gamma, coef0 = coef0, decision_function_shape='ovr')\n",
    "svm_sigmoid.fit(x_train, y_train)\n",
    "\n",
    "print(\"Evaluating model...\")\n",
    "y_pred = svm_sigmoid.predict(x_test)\n",
    "\n",
    "accuracy = accuracy_score(y_test, y_pred)\n",
    "print(f\"Accuracy: {accuracy:.2f}\")"
   ]
  },
  {
   "cell_type": "code",
   "execution_count": null,
   "metadata": {},
   "outputs": [
    {
     "name": "stdout",
     "output_type": "stream",
     "text": [
      "Training SVM with sigmoid kernel, C=10, gamma='scale', coef0=0)...\n",
      "Evaluating model...\n",
      "Accuracy: 0.08\n"
     ]
    }
   ],
   "source": [
    "C_value = 10\n",
    "coef0 = 0\n",
    "print(f\"Training SVM with sigmoid kernel, C={C_value}, gamma='scale', coef0={coef0})...\")\n",
    "\n",
    "svm_sigmoid = SVC(kernel='sigmoid', C=C_value, gamma='scale', coef0 = coef0, decision_function_shape='ovr')\n",
    "svm_sigmoid.fit(x_train, y_train)\n",
    "\n",
    "print(\"Evaluating model...\")\n",
    "y_pred = svm_sigmoid.predict(x_test)\n",
    "\n",
    "accuracy = accuracy_score(y_test, y_pred)\n",
    "print(f\"Accuracy: {accuracy:.2f}\")"
   ]
  }
 ],
 "metadata": {
  "kernelspec": {
   "display_name": "Python 3",
   "language": "python",
   "name": "python3"
  },
  "language_info": {
   "codemirror_mode": {
    "name": "ipython",
    "version": 3
   },
   "file_extension": ".py",
   "mimetype": "text/x-python",
   "name": "python",
   "nbconvert_exporter": "python",
   "pygments_lexer": "ipython3",
   "version": "3.10.0"
  }
 },
 "nbformat": 4,
 "nbformat_minor": 2
}
